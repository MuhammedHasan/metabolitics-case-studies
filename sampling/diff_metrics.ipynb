{
 "cells": [
  {
   "cell_type": "markdown",
   "metadata": {},
   "source": [
    "# Diff Metrics"
   ]
  },
  {
   "cell_type": "code",
   "execution_count": 1,
   "metadata": {},
   "outputs": [],
   "source": [
    "import json\n",
    "import os\n",
    "import gzip\n",
    "\n",
    "import pandas as pd\n",
    "import numpy as np"
   ]
  },
  {
   "cell_type": "code",
   "execution_count": 2,
   "metadata": {},
   "outputs": [],
   "source": [
    "from metabolitics.utils import load_network_model\n",
    "\n",
    "model = load_network_model('recon2')"
   ]
  },
  {
   "cell_type": "code",
   "execution_count": 3,
   "metadata": {},
   "outputs": [],
   "source": [
    "path = '/media/muhammedhasan/hdd/sampling-bc'"
   ]
  },
  {
   "cell_type": "code",
   "execution_count": 4,
   "metadata": {},
   "outputs": [],
   "source": [
    "N = 2\n",
    "n_bc = [i for i in os.listdir(path) if i.split('.')[0].split('#')[1] == 'healthy'][:N]\n",
    "n_h = [i for i in os.listdir(path) if i.split('.')[0].split('#')[1] == 'bc'][:N]"
   ]
  },
  {
   "cell_type": "code",
   "execution_count": 5,
   "metadata": {},
   "outputs": [],
   "source": [
    "df_bcs = list()\n",
    "df_hs = list()\n",
    "\n",
    "for i in n_bc:\n",
    "    file = os.path.join(path, i)\n",
    "    with gzip.open(file, 'rt') as f:\n",
    "        df_bcs.append(pd.DataFrame(json.load(f)))\n",
    "\n",
    "for i in n_h:\n",
    "    file = os.path.join(path, i)\n",
    "    with gzip.open(file, 'rt') as f:\n",
    "        df_hs.append(pd.DataFrame(json.load(f)))"
   ]
  },
  {
   "cell_type": "code",
   "execution_count": 6,
   "metadata": {},
   "outputs": [],
   "source": [
    "from sklearn.neighbors.kde import KernelDensity\n",
    "\n",
    "for i in range(N):\n",
    "    kde = KernelDensity().fit(df_bcs[i].round(1))\n",
    "    kde = KernelDensity().fit(df_hs[i].round(1))"
   ]
  },
  {
   "cell_type": "code",
   "execution_count": null,
   "metadata": {},
   "outputs": [],
   "source": [
    "df_combined_h = pd.concat(df_hs)"
   ]
  },
  {
   "cell_type": "code",
   "execution_count": null,
   "metadata": {
    "scrolled": false
   },
   "outputs": [],
   "source": [
    "% matplotlib inline\n",
    "\n",
    "import seaborn as sns\n",
    "from scipy.stats import ks_2samp, kstest\n",
    "from sklearn.neighbors.kde import KernelDensity\n",
    "import matplotlib.pyplot as plt\n",
    "\n",
    "sns.set(color_codes=True)\n",
    "\n",
    "for r in model.reactions[200:202]:\n",
    "    print(r.id)\n",
    "    \n",
    "    try:\n",
    "    \n",
    "        print('BC')\n",
    "        for i in range(N):\n",
    "            bc = df_bcs[i][r.id].values\n",
    "            sns.distplot(bc)\n",
    "        bc_diff = [ks_2samp(df_combined_h[r.id].values, df_bcs[i][r.id].values)[0] for i in range(N)]\n",
    "        print(bc_diff)\n",
    "        print('mean:', np.mean(bc_diff))\n",
    "        plt.show()\n",
    "\n",
    "        print('H')\n",
    "        for i in range(N):\n",
    "            h = df_hs[i][r.id].values\n",
    "            sns.distplot(h)\n",
    "        h_diff = [ks_2samp(df_combined_h[r.id].values, df_hs[i][r.id].values)[0] for i in range(N)]\n",
    "        print(h_diff)\n",
    "        print('mean:', np.mean(h_diff))\n",
    "        plt.show()\n",
    "\n",
    "        sns.distplot(df_combined_h[r.id].values)\n",
    "        plt.show()\n",
    "        \n",
    "    except Exception as e:\n",
    "        print(e)\n",
    "    \n",
    "    # h_kde = KernelDensity(bandwidth=1).fit([[i] for i in df_combined_h[r.id].values])\n",
    "    # sns.distplot(h_kde.sample(1000))\n",
    "    # plt.show()\n",
    "    \n",
    "    # bc_kde = KernelDensity(bandwidth=1e-20).fit([[i] for i in bc])\n",
    "    # \n",
    "    # print(ks_2samp(h_kde(10000), bc_kde(10000)))\n",
    "    # print(kstest(h_kde, bc_kde), N=1000)\n",
    "\n",
    "    # sns.distplot(bc_kde.sample(1000))\n",
    "    # sns.distplot(h_kde.sample(1000))\n",
    "    # plt.show()"
   ]
  }
 ],
 "metadata": {
  "kernelspec": {
   "display_name": "metabolitics-case-studies",
   "language": "python",
   "name": "metabolitics-case-studies"
  },
  "language_info": {
   "codemirror_mode": {
    "name": "ipython",
    "version": 3
   },
   "file_extension": ".py",
   "mimetype": "text/x-python",
   "name": "python",
   "nbconvert_exporter": "python",
   "pygments_lexer": "ipython3",
   "version": "3.5.2"
  }
 },
 "nbformat": 4,
 "nbformat_minor": 2
}
