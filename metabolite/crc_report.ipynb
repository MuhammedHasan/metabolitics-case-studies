{
 "cells": [
  {
   "cell_type": "markdown",
   "metadata": {},
   "source": [
    "# CRC Report"
   ]
  },
  {
   "cell_type": "markdown",
   "metadata": {},
   "source": [
    "Data source: [Metabolic Profiling of Visceral and Subcutaneous Adipose Tissue from Colorectal  Patients: Unraveling the Link Between Adipose Tissue and Cancer biomarker study](https://doi.org/10.1371/journal.pone.0175133)"
   ]
  },
  {
   "cell_type": "code",
   "execution_count": 1,
   "metadata": {
    "collapsed": true
   },
   "outputs": [],
   "source": [
    "import numpy as np\n",
    "import pandas as pd\n",
    "\n",
    "pd.set_option('display.max_columns', None)\n",
    "pd.set_option('display.max_rows', None)\n",
    "pd.set_option('display.float_format', '{:.2g}'.format)"
   ]
  },
  {
   "cell_type": "code",
   "execution_count": 2,
   "metadata": {
    "collapsed": true
   },
   "outputs": [],
   "source": [
    "from sklearn_utils.utils import SkUtilsIO, filter_by_label\n",
    "\n",
    "X, y = SkUtilsIO('../datasets/CRC_analysis_with_std.json', gz=True).from_json()\n",
    "X_visceral, y_visceral = filter_by_label(X, y, 'Subcutaenous Fat', reverse=True)"
   ]
  },
  {
   "cell_type": "code",
   "execution_count": 3,
   "metadata": {
    "collapsed": true
   },
   "outputs": [],
   "source": [
    "from metabolitics.preprocessing import MetaboliticsPipeline\n",
    "\n",
    "pre = MetaboliticsPipeline([\n",
    "    'reaction-diff', \n",
    "    'feature-selection', \n",
    "    'pathway-transformer', \n",
    "    'transport-pathway-elimination'\n",
    "])\n",
    "\n",
    "X_visceral_pathways = pre.fit_transform(X_visceral, y_visceral)"
   ]
  },
  {
   "cell_type": "markdown",
   "metadata": {},
   "source": [
    "Number of healthy samples are so small thus only 2-fold test could be performed."
   ]
  },
  {
   "cell_type": "markdown",
   "metadata": {},
   "source": [
    "## Visceral Fat"
   ]
  },
  {
   "cell_type": "code",
   "execution_count": 4,
   "metadata": {},
   "outputs": [
    {
     "data": {
      "text/html": [
       "<div>\n",
       "<style scoped>\n",
       "    .dataframe tbody tr th:only-of-type {\n",
       "        vertical-align: middle;\n",
       "    }\n",
       "\n",
       "    .dataframe tbody tr th {\n",
       "        vertical-align: top;\n",
       "    }\n",
       "\n",
       "    .dataframe thead th {\n",
       "        text-align: right;\n",
       "    }\n",
       "</style>\n",
       "<table border=\"1\" class=\"dataframe\">\n",
       "  <thead>\n",
       "    <tr style=\"text-align: right;\">\n",
       "      <th>labels</th>\n",
       "      <th>Visceral Fat</th>\n",
       "      <th>healthy</th>\n",
       "      <th>F</th>\n",
       "      <th>pval</th>\n",
       "      <th>ref</th>\n",
       "    </tr>\n",
       "  </thead>\n",
       "  <tbody>\n",
       "    <tr>\n",
       "      <th>Fatty acid oxidation</th>\n",
       "      <td>1.1e+03</td>\n",
       "      <td>-3.3e-14</td>\n",
       "      <td>1.1e+02</td>\n",
       "      <td>2e-13</td>\n",
       "      <td>[1]</td>\n",
       "    </tr>\n",
       "    <tr>\n",
       "      <th>Glyoxylate and dicarboxylate metabolism</th>\n",
       "      <td>-1.5e+03</td>\n",
       "      <td>-5.7e-14</td>\n",
       "      <td>99</td>\n",
       "      <td>1.1e-12</td>\n",
       "      <td>[2]</td>\n",
       "    </tr>\n",
       "    <tr>\n",
       "      <th>Arginine and Proline Metabolism</th>\n",
       "      <td>-1.9e+03</td>\n",
       "      <td>-7.6e-15</td>\n",
       "      <td>88</td>\n",
       "      <td>4.6e-12</td>\n",
       "      <td>[3]</td>\n",
       "    </tr>\n",
       "    <tr>\n",
       "      <th>Tryptophan metabolism</th>\n",
       "      <td>-1.2e+03</td>\n",
       "      <td>-1.1e-13</td>\n",
       "      <td>77</td>\n",
       "      <td>3.1e-11</td>\n",
       "      <td>[4]</td>\n",
       "    </tr>\n",
       "    <tr>\n",
       "      <th>Galactose metabolism</th>\n",
       "      <td>8.5e+02</td>\n",
       "      <td>9.5e-15</td>\n",
       "      <td>68</td>\n",
       "      <td>1.8e-10</td>\n",
       "      <td>[5]</td>\n",
       "    </tr>\n",
       "    <tr>\n",
       "      <th>Fructose and mannose metabolism</th>\n",
       "      <td>-1.8e+03</td>\n",
       "      <td>7.6e-14</td>\n",
       "      <td>50</td>\n",
       "      <td>1.3e-08</td>\n",
       "      <td>[6]</td>\n",
       "    </tr>\n",
       "    <tr>\n",
       "      <th>Glutathione metabolism</th>\n",
       "      <td>-1.6e+03</td>\n",
       "      <td>3.8e-14</td>\n",
       "      <td>44</td>\n",
       "      <td>4.6e-08</td>\n",
       "      <td>[7]</td>\n",
       "    </tr>\n",
       "    <tr>\n",
       "      <th>Purine catabolism</th>\n",
       "      <td>-1.5e+03</td>\n",
       "      <td>-5.7e-14</td>\n",
       "      <td>33</td>\n",
       "      <td>1.3e-06</td>\n",
       "      <td>[8]</td>\n",
       "    </tr>\n",
       "    <tr>\n",
       "      <th>Urea cycle</th>\n",
       "      <td>-1.7e+03</td>\n",
       "      <td>-1.3e-13</td>\n",
       "      <td>32</td>\n",
       "      <td>1.5e-06</td>\n",
       "      <td>[9]</td>\n",
       "    </tr>\n",
       "    <tr>\n",
       "      <th>Cholesterol metabolism</th>\n",
       "      <td>-9.8e+02</td>\n",
       "      <td>-9.5e-14</td>\n",
       "      <td>29</td>\n",
       "      <td>4e-06</td>\n",
       "      <td>[10]</td>\n",
       "    </tr>\n",
       "    <tr>\n",
       "      <th>Pentose phosphate pathway</th>\n",
       "      <td>-1.2e+03</td>\n",
       "      <td>-1.5e-13</td>\n",
       "      <td>28</td>\n",
       "      <td>4.1e-06</td>\n",
       "      <td>-</td>\n",
       "    </tr>\n",
       "    <tr>\n",
       "      <th>beta-Alanine metabolism</th>\n",
       "      <td>-9.6e+02</td>\n",
       "      <td>-1.9e-14</td>\n",
       "      <td>26</td>\n",
       "      <td>7.1e-06</td>\n",
       "      <td>-</td>\n",
       "    </tr>\n",
       "    <tr>\n",
       "      <th>Biotin metabolism</th>\n",
       "      <td>-1.6e+03</td>\n",
       "      <td>-7.6e-15</td>\n",
       "      <td>26</td>\n",
       "      <td>8e-06</td>\n",
       "      <td>-</td>\n",
       "    </tr>\n",
       "    <tr>\n",
       "      <th>Bile acid synthesis</th>\n",
       "      <td>4.9e+02</td>\n",
       "      <td>4.7e-15</td>\n",
       "      <td>24</td>\n",
       "      <td>1.2e-05</td>\n",
       "      <td>-</td>\n",
       "    </tr>\n",
       "    <tr>\n",
       "      <th>Pyruvate metabolism</th>\n",
       "      <td>-1.4e+03</td>\n",
       "      <td>-7.6e-14</td>\n",
       "      <td>24</td>\n",
       "      <td>1.4e-05</td>\n",
       "      <td>-</td>\n",
       "    </tr>\n",
       "    <tr>\n",
       "      <th>Lysine metabolism</th>\n",
       "      <td>-1.3e+03</td>\n",
       "      <td>-1.9e-14</td>\n",
       "      <td>22</td>\n",
       "      <td>2.6e-05</td>\n",
       "      <td>-</td>\n",
       "    </tr>\n",
       "    <tr>\n",
       "      <th>Methionine and cysteine metabolism</th>\n",
       "      <td>-1.3e+03</td>\n",
       "      <td>7.6e-14</td>\n",
       "      <td>21</td>\n",
       "      <td>3.8e-05</td>\n",
       "      <td>-</td>\n",
       "    </tr>\n",
       "    <tr>\n",
       "      <th>Valine, leucine, and isoleucine metabolism</th>\n",
       "      <td>-7.7e+02</td>\n",
       "      <td>-1.4e-13</td>\n",
       "      <td>18</td>\n",
       "      <td>0.00011</td>\n",
       "      <td>-</td>\n",
       "    </tr>\n",
       "    <tr>\n",
       "      <th>Nucleotide interconversion</th>\n",
       "      <td>-4e+02</td>\n",
       "      <td>-4.1e-14</td>\n",
       "      <td>5.9</td>\n",
       "      <td>0.019</td>\n",
       "      <td>-</td>\n",
       "    </tr>\n",
       "    <tr>\n",
       "      <th>Citric acid cycle</th>\n",
       "      <td>-3.7e+02</td>\n",
       "      <td>2.8e-14</td>\n",
       "      <td>4.3</td>\n",
       "      <td>0.042</td>\n",
       "      <td>-</td>\n",
       "    </tr>\n",
       "  </tbody>\n",
       "</table>\n",
       "</div>"
      ],
      "text/plain": [
       "labels                                      Visceral Fat  healthy       F  \\\n",
       "Fatty acid oxidation                             1.1e+03 -3.3e-14 1.1e+02   \n",
       "Glyoxylate and dicarboxylate metabolism         -1.5e+03 -5.7e-14      99   \n",
       "Arginine and Proline Metabolism                 -1.9e+03 -7.6e-15      88   \n",
       "Tryptophan metabolism                           -1.2e+03 -1.1e-13      77   \n",
       "Galactose metabolism                             8.5e+02  9.5e-15      68   \n",
       "Fructose and mannose metabolism                 -1.8e+03  7.6e-14      50   \n",
       "Glutathione metabolism                          -1.6e+03  3.8e-14      44   \n",
       "Purine catabolism                               -1.5e+03 -5.7e-14      33   \n",
       "Urea cycle                                      -1.7e+03 -1.3e-13      32   \n",
       "Cholesterol metabolism                          -9.8e+02 -9.5e-14      29   \n",
       "Pentose phosphate pathway                       -1.2e+03 -1.5e-13      28   \n",
       "beta-Alanine metabolism                         -9.6e+02 -1.9e-14      26   \n",
       "Biotin metabolism                               -1.6e+03 -7.6e-15      26   \n",
       "Bile acid synthesis                              4.9e+02  4.7e-15      24   \n",
       "Pyruvate metabolism                             -1.4e+03 -7.6e-14      24   \n",
       "Lysine metabolism                               -1.3e+03 -1.9e-14      22   \n",
       "Methionine and cysteine metabolism              -1.3e+03  7.6e-14      21   \n",
       "Valine, leucine, and isoleucine metabolism      -7.7e+02 -1.4e-13      18   \n",
       "Nucleotide interconversion                        -4e+02 -4.1e-14     5.9   \n",
       "Citric acid cycle                               -3.7e+02  2.8e-14     4.3   \n",
       "\n",
       "labels                                        pval   ref  \n",
       "Fatty acid oxidation                         2e-13   [1]  \n",
       "Glyoxylate and dicarboxylate metabolism    1.1e-12   [2]  \n",
       "Arginine and Proline Metabolism            4.6e-12   [3]  \n",
       "Tryptophan metabolism                      3.1e-11   [4]  \n",
       "Galactose metabolism                       1.8e-10   [5]  \n",
       "Fructose and mannose metabolism            1.3e-08   [6]  \n",
       "Glutathione metabolism                     4.6e-08   [7]  \n",
       "Purine catabolism                          1.3e-06   [8]  \n",
       "Urea cycle                                 1.5e-06   [9]  \n",
       "Cholesterol metabolism                       4e-06  [10]  \n",
       "Pentose phosphate pathway                  4.1e-06     -  \n",
       "beta-Alanine metabolism                    7.1e-06     -  \n",
       "Biotin metabolism                            8e-06     -  \n",
       "Bile acid synthesis                        1.2e-05     -  \n",
       "Pyruvate metabolism                        1.4e-05     -  \n",
       "Lysine metabolism                          2.6e-05     -  \n",
       "Methionine and cysteine metabolism         3.8e-05     -  \n",
       "Valine, leucine, and isoleucine metabolism 0.00011     -  \n",
       "Nucleotide interconversion                   0.019     -  \n",
       "Citric acid cycle                            0.042     -  "
      ]
     },
     "execution_count": 4,
     "metadata": {},
     "output_type": "execute_result"
    }
   ],
   "source": [
    "from sklearn_utils.utils import feature_importance_report\n",
    "\n",
    "df = feature_importance_report(X_visceral_pathways, y_visceral)\n",
    "\n",
    "df['ref'] = ['[%d]' % (i + 1) if i < 10 else '-' for i in range(len(df))]\n",
    "\n",
    "df"
   ]
  },
  {
   "cell_type": "code",
   "execution_count": 5,
   "metadata": {},
   "outputs": [
    {
     "data": {
      "text/plain": [
       "<seaborn.matrix.ClusterGrid at 0x7fefb4b0a5c0>"
      ]
     },
     "execution_count": 5,
     "metadata": {},
     "output_type": "execute_result"
    },
    {
     "data": {
      "image/png": "[encoded data removed]",
      "text/plain": [
       "<Figure size 1584x1584 with 5 Axes>"
      ]
     },
     "metadata": {},
     "output_type": "display_data"
    }
   ],
   "source": [
    "%matplotlib inline\n",
    "\n",
    "from sklearn_utils.visualization import plot_heatmap\n",
    "\n",
    "plot_heatmap(X_visceral_pathways, y_visceral)"
   ]
  },
  {
   "cell_type": "code",
   "execution_count": 6,
   "metadata": {
    "collapsed": true
   },
   "outputs": [],
   "source": [
    "from sklearn.pipeline import Pipeline\n",
    "from sklearn.decomposition import PCA\n",
    "from sklearn.feature_extraction import DictVectorizer\n",
    "from sklearn.linear_model import LogisticRegression\n",
    "\n",
    "pipe = Pipeline([\n",
    "            ('dy', pre),\n",
    "            ('vect', DictVectorizer(sparse=False)),\n",
    "            ('pca', PCA()),\n",
    "            ('clf', LogisticRegression(C=0.3e-6, random_state=43))\n",
    "        ])"
   ]
  },
  {
   "cell_type": "code",
   "execution_count": 7,
   "metadata": {},
   "outputs": [
    {
     "name": "stdout",
     "output_type": "stream",
     "text": [
      "kfold test: [0.89285714 0.88888889]\n",
      "mean: 0.891\n",
      "std: 0.002\n"
     ]
    }
   ],
   "source": [
    "from sklearn.model_selection import cross_val_score, StratifiedKFold\n",
    "\n",
    "kf = StratifiedKFold(n_splits=2, random_state=43)\n",
    "\n",
    "pipe.named_steps['clf'].set_params(C=0.3e-6, penalty='l1')\n",
    "\n",
    "scores = cross_val_score(pipe, X_visceral, y_visceral, cv=kf, scoring='f1_micro')\n",
    "\n",
    "print('kfold test: %s' % scores)\n",
    "print('mean: %s' % scores.mean().round(3))\n",
    "print('std: %s' % scores.std().round(3))"
   ]
  },
  {
   "cell_type": "markdown",
   "metadata": {},
   "source": [
    "## References"
   ]
  },
  {
   "cell_type": "markdown",
   "metadata": {},
   "source": [
    "[1]\n",
    "\n",
    "[2]\n",
    "\n",
    "[3]\n",
    "\n",
    "[4]\n",
    "\n",
    "[5]\n",
    "\n",
    "[6]\n",
    "\n",
    "[7]\n",
    "\n",
    "[8]\n",
    "\n",
    "[9]\n",
    "\n",
    "[10]"
   ]
  }
 ],
 "metadata": {
  "anaconda-cloud": {},
  "kernelspec": {
   "display_name": "Python 3",
   "language": "python",
   "name": "python3"
  },
  "language_info": {
   "codemirror_mode": {
    "name": "ipython",
    "version": 3
   },
   "file_extension": ".py",
   "mimetype": "text/x-python",
   "name": "python",
   "nbconvert_exporter": "python",
   "pygments_lexer": "ipython3",
   "version": "3.5.2"
  }
 },
 "nbformat": 4,
 "nbformat_minor": 1
}
